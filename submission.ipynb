{
  "nbformat": 4,
  "nbformat_minor": 0,
  "metadata": {
    "colab": {
      "name": "submission.ipynb",
      "provenance": [],
      "collapsed_sections": [],
      "include_colab_link": true
    },
    "kernelspec": {
      "name": "python3",
      "display_name": "Python 3"
    },
    "language_info": {
      "name": "python"
    }
  },
  "cells": [
    {
      "cell_type": "markdown",
      "metadata": {
        "id": "view-in-github",
        "colab_type": "text"
      },
      "source": [
        "<a href=\"https://colab.research.google.com/github/CristinaZapata/Dron/blob/master/submission.ipynb\" target=\"_parent\"><img src=\"https://colab.research.google.com/assets/colab-badge.svg\" alt=\"Open In Colab\"/></a>"
      ]
    },
    {
      "cell_type": "code",
      "metadata": {
        "id": "oR3e4g1xmboV"
      },
      "source": [
        "import numpy as np\n",
        "import os\n",
        "\n",
        "def estimate_rf(st,sp,num_window):\n",
        "  sp[0:num_window-1] = 0\n",
        "  spikes = np.where(sp==1)[0]\n",
        "  for k in spikes:\n",
        "    avg = np.mean(st[:,:,k-num_window:k], axis=2)\n",
        "    if (k == spikes[0]):\n",
        "      all = avg\n",
        "    else:\n",
        "      all = np.dstack((all, avg))\n",
        "    \n",
        "  rf = np.mean(all, axis=2)\n",
        "  return rf"
      ],
      "execution_count": 1,
      "outputs": []
    },
    {
      "cell_type": "code",
      "metadata": {
        "id": "Hp8wSpXyON2R"
      },
      "source": [
        "def estimate_nl(st, sp, rf, K):\n",
        "  \n",
        "..."
      ],
      "execution_count": null,
      "outputs": []
    },
    {
      "cell_type": "code",
      "metadata": {
        "id": "F_pI1rAiixD6"
      },
      "source": [
        "def generate_spikes(N,rate,duration):\n",
        "  spikes = np.zeros([N,duration])\n",
        "  for i in range(N):\n",
        "    for n in range(duration):\n",
        "      if np.random.rand() < rate/1000: # considering Hz = 1/sec but delta t is 1 ms\n",
        "        spikes[i,n] = 1\n",
        "      else:\n",
        "        spikes[i,n] = 0\n",
        "  return spikes "
      ],
      "execution_count": 2,
      "outputs": []
    },
    {
      "cell_type": "code",
      "metadata": {
        "id": "5HhGXyQOoDpq"
      },
      "source": [
        "def mle_fr(spikes):\n",
        "  sum = 0\n",
        "  for n in range(len(spikes[:,0])):\n",
        "    for i in range(len(spikes[n,:])):\n",
        "      sum = sum + spikes[n,i]\n",
        "  rate = sum/(len(spikes[:,0])*len(spikes[0,:]))\n",
        "  return rate"
      ],
      "execution_count": 3,
      "outputs": []
    }
  ]
}